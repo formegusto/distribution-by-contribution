{
 "cells": [
  {
   "cell_type": "code",
   "execution_count": 1,
   "id": "5a7fede3",
   "metadata": {},
   "outputs": [],
   "source": [
    "%load_ext autoreload\n",
    "%autoreload 2\n",
    "%reload_ext autoreload"
   ]
  },
  {
   "cell_type": "code",
   "execution_count": 13,
   "id": "d74c3208",
   "metadata": {},
   "outputs": [],
   "source": [
    "import pandas as pd\n",
    "import numpy as np\n",
    "%matplotlib inline\n",
    "import matplotlib\n",
    "import matplotlib.pyplot as plt\n",
    "import math as mt\n",
    "import datetime as dt\n",
    "\n",
    "# 한글출력\n",
    "matplotlib.rc('font', family='AppleGothic')\n",
    "plt.rcParams['axes.unicode_minus'] = False\n",
    "\n",
    "from src.dbc.utils import data_preprocessing"
   ]
  },
  {
   "cell_type": "code",
   "execution_count": 3,
   "id": "92d88986",
   "metadata": {},
   "outputs": [],
   "source": [
    "# 1. load_excel\n",
    "data_path = \"data/apt_1.xlsx\"\n",
    "xlsx = pd.read_excel(data_path, header=None,\n",
    "                     skiprows=2, engine=\"openpyxl\")"
   ]
  },
  {
   "cell_type": "code",
   "execution_count": 65,
   "id": "d1c2ae3a",
   "metadata": {},
   "outputs": [],
   "source": [
    "date_df = xlsx[3:][xlsx.columns[1:6]].copy()\n",
    "household_df = xlsx[xlsx.columns[7:]]\n",
    "\n",
    "date_list = date_df.apply(\n",
    "    lambda x: dt.datetime(\n",
    "        x[1],x[2],x[3],x[4],x[5]\n",
    "    ), axis=1).values\n",
    "\n",
    "household_names = household_df.apply(\n",
    "    lambda x: \"{}-{}-{}\".format(\n",
    "        x[0],x[1],x[2]\n",
    "    )).values"
   ]
  },
  {
   "cell_type": "code",
   "execution_count": 67,
   "id": "8f1ca0c9",
   "metadata": {},
   "outputs": [
    {
     "data": {
      "text/plain": [
       "array(['2018-05-01T00:00:00.000000000', '2018-05-01T00:15:00.000000000',\n",
       "       '2018-05-01T00:30:00.000000000', ...,\n",
       "       '2019-04-30T23:15:00.000000000', '2019-04-30T23:30:00.000000000',\n",
       "       '2019-04-30T23:45:00.000000000'], dtype='datetime64[ns]')"
      ]
     },
     "execution_count": 67,
     "metadata": {},
     "output_type": "execute_result"
    }
   ],
   "source": [
    "datas_df = household_df."
   ]
  },
  {
   "cell_type": "code",
   "execution_count": null,
   "id": "e8039bd0",
   "metadata": {},
   "outputs": [],
   "source": []
  }
 ],
 "metadata": {
  "kernelspec": {
   "display_name": "Python 3 (ipykernel)",
   "language": "python",
   "name": "python3"
  },
  "language_info": {
   "codemirror_mode": {
    "name": "ipython",
    "version": 3
   },
   "file_extension": ".py",
   "mimetype": "text/x-python",
   "name": "python",
   "nbconvert_exporter": "python",
   "pygments_lexer": "ipython3",
   "version": "3.8.12"
  }
 },
 "nbformat": 4,
 "nbformat_minor": 5
}
