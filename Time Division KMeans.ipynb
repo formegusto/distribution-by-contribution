{
 "cells": [
  {
   "cell_type": "code",
   "execution_count": 1,
   "id": "d33ea5db",
   "metadata": {},
   "outputs": [],
   "source": [
    "%load_ext autoreload\n",
    "%autoreload 2\n",
    "%reload_ext autoreload"
   ]
  },
  {
   "cell_type": "code",
   "execution_count": 290,
   "id": "b425bca4",
   "metadata": {},
   "outputs": [],
   "source": [
    "import pandas as pd\n",
    "import numpy as np\n",
    "%matplotlib inline\n",
    "import matplotlib\n",
    "import matplotlib.pyplot as plt\n",
    "import math as mt\n",
    "import datetime as dt\n",
    "import random as ran\n",
    "from sklearn.metrics.pairwise import euclidean_distances as euc\n",
    "\n",
    "# 한글출력\n",
    "matplotlib.rc('font', family='AppleGothic')\n",
    "plt.rcParams['axes.unicode_minus'] = False\n",
    "\n",
    "from src.dbc import TimeDivisionKMeans\n",
    "from src.dbc.utils import data_preprocessing, dimension_reduction"
   ]
  },
  {
   "cell_type": "code",
   "execution_count": 193,
   "id": "df88f988",
   "metadata": {},
   "outputs": [
    {
     "data": {
      "text/html": [
       "<div>\n",
       "<style scoped>\n",
       "    .dataframe tbody tr th:only-of-type {\n",
       "        vertical-align: middle;\n",
       "    }\n",
       "\n",
       "    .dataframe tbody tr th {\n",
       "        vertical-align: top;\n",
       "    }\n",
       "\n",
       "    .dataframe thead th {\n",
       "        text-align: right;\n",
       "    }\n",
       "</style>\n",
       "<table border=\"1\" class=\"dataframe\">\n",
       "  <thead>\n",
       "    <tr style=\"text-align: right;\">\n",
       "      <th></th>\n",
       "      <th>아파트1-104-1206</th>\n",
       "      <th>아파트1-104-303</th>\n",
       "      <th>아파트1-104-1307</th>\n",
       "      <th>아파트1-104-1208</th>\n",
       "      <th>아파트1-104-408</th>\n",
       "      <th>아파트1-104-203</th>\n",
       "      <th>아파트1-103-1402</th>\n",
       "      <th>아파트1-103-402</th>\n",
       "      <th>아파트1-103-1201</th>\n",
       "      <th>아파트1-103-801</th>\n",
       "      <th>...</th>\n",
       "      <th>아파트1-102-901</th>\n",
       "      <th>아파트1-103-1905</th>\n",
       "      <th>아파트1-103-503</th>\n",
       "      <th>아파트1-103-1504</th>\n",
       "      <th>아파트1-103-606</th>\n",
       "      <th>아파트1-103-903</th>\n",
       "      <th>아파트1-103-1106</th>\n",
       "      <th>아파트1-103-705</th>\n",
       "      <th>아파트1-103-1505</th>\n",
       "      <th>아파트1-103-406</th>\n",
       "    </tr>\n",
       "  </thead>\n",
       "  <tbody>\n",
       "    <tr>\n",
       "      <th>2018-05-01 00:00:00</th>\n",
       "      <td>0.341</td>\n",
       "      <td>0.121</td>\n",
       "      <td>0.245</td>\n",
       "      <td>0.009</td>\n",
       "      <td>0.085</td>\n",
       "      <td>0.154</td>\n",
       "      <td>0.161</td>\n",
       "      <td>0.311</td>\n",
       "      <td>0.358</td>\n",
       "      <td>0.177</td>\n",
       "      <td>...</td>\n",
       "      <td>0.372</td>\n",
       "      <td>0.181</td>\n",
       "      <td>0.322</td>\n",
       "      <td>0.374</td>\n",
       "      <td>0.571</td>\n",
       "      <td>0.453</td>\n",
       "      <td>0.161</td>\n",
       "      <td>0.127</td>\n",
       "      <td>0.259</td>\n",
       "      <td>0.364</td>\n",
       "    </tr>\n",
       "    <tr>\n",
       "      <th>2018-05-01 01:00:00</th>\n",
       "      <td>0.337</td>\n",
       "      <td>0.186</td>\n",
       "      <td>0.285</td>\n",
       "      <td>0.010</td>\n",
       "      <td>0.071</td>\n",
       "      <td>0.127</td>\n",
       "      <td>0.179</td>\n",
       "      <td>0.225</td>\n",
       "      <td>0.206</td>\n",
       "      <td>0.178</td>\n",
       "      <td>...</td>\n",
       "      <td>0.245</td>\n",
       "      <td>0.238</td>\n",
       "      <td>0.292</td>\n",
       "      <td>0.382</td>\n",
       "      <td>0.327</td>\n",
       "      <td>0.352</td>\n",
       "      <td>0.172</td>\n",
       "      <td>0.133</td>\n",
       "      <td>0.234</td>\n",
       "      <td>0.286</td>\n",
       "    </tr>\n",
       "    <tr>\n",
       "      <th>2018-05-01 02:00:00</th>\n",
       "      <td>0.324</td>\n",
       "      <td>0.214</td>\n",
       "      <td>0.487</td>\n",
       "      <td>0.009</td>\n",
       "      <td>0.061</td>\n",
       "      <td>0.139</td>\n",
       "      <td>0.182</td>\n",
       "      <td>0.221</td>\n",
       "      <td>0.150</td>\n",
       "      <td>0.152</td>\n",
       "      <td>...</td>\n",
       "      <td>0.245</td>\n",
       "      <td>0.250</td>\n",
       "      <td>0.287</td>\n",
       "      <td>0.320</td>\n",
       "      <td>0.359</td>\n",
       "      <td>0.366</td>\n",
       "      <td>0.242</td>\n",
       "      <td>0.219</td>\n",
       "      <td>0.197</td>\n",
       "      <td>0.368</td>\n",
       "    </tr>\n",
       "    <tr>\n",
       "      <th>2018-05-01 03:00:00</th>\n",
       "      <td>0.319</td>\n",
       "      <td>0.250</td>\n",
       "      <td>0.300</td>\n",
       "      <td>0.009</td>\n",
       "      <td>0.067</td>\n",
       "      <td>0.132</td>\n",
       "      <td>0.172</td>\n",
       "      <td>0.274</td>\n",
       "      <td>0.142</td>\n",
       "      <td>0.205</td>\n",
       "      <td>...</td>\n",
       "      <td>0.177</td>\n",
       "      <td>0.223</td>\n",
       "      <td>0.329</td>\n",
       "      <td>0.170</td>\n",
       "      <td>0.322</td>\n",
       "      <td>0.267</td>\n",
       "      <td>0.269</td>\n",
       "      <td>0.164</td>\n",
       "      <td>0.229</td>\n",
       "      <td>0.414</td>\n",
       "    </tr>\n",
       "    <tr>\n",
       "      <th>2018-05-01 04:00:00</th>\n",
       "      <td>0.235</td>\n",
       "      <td>0.199</td>\n",
       "      <td>0.107</td>\n",
       "      <td>0.009</td>\n",
       "      <td>0.047</td>\n",
       "      <td>0.131</td>\n",
       "      <td>0.153</td>\n",
       "      <td>0.255</td>\n",
       "      <td>0.139</td>\n",
       "      <td>0.169</td>\n",
       "      <td>...</td>\n",
       "      <td>0.129</td>\n",
       "      <td>0.171</td>\n",
       "      <td>0.301</td>\n",
       "      <td>0.168</td>\n",
       "      <td>0.351</td>\n",
       "      <td>0.255</td>\n",
       "      <td>0.170</td>\n",
       "      <td>0.132</td>\n",
       "      <td>0.198</td>\n",
       "      <td>0.318</td>\n",
       "    </tr>\n",
       "  </tbody>\n",
       "</table>\n",
       "<p>5 rows × 108 columns</p>\n",
       "</div>"
      ],
      "text/plain": [
       "                     아파트1-104-1206  아파트1-104-303  아파트1-104-1307  \\\n",
       "2018-05-01 00:00:00          0.341         0.121          0.245   \n",
       "2018-05-01 01:00:00          0.337         0.186          0.285   \n",
       "2018-05-01 02:00:00          0.324         0.214          0.487   \n",
       "2018-05-01 03:00:00          0.319         0.250          0.300   \n",
       "2018-05-01 04:00:00          0.235         0.199          0.107   \n",
       "\n",
       "                     아파트1-104-1208  아파트1-104-408  아파트1-104-203  아파트1-103-1402  \\\n",
       "2018-05-01 00:00:00          0.009         0.085         0.154          0.161   \n",
       "2018-05-01 01:00:00          0.010         0.071         0.127          0.179   \n",
       "2018-05-01 02:00:00          0.009         0.061         0.139          0.182   \n",
       "2018-05-01 03:00:00          0.009         0.067         0.132          0.172   \n",
       "2018-05-01 04:00:00          0.009         0.047         0.131          0.153   \n",
       "\n",
       "                     아파트1-103-402  아파트1-103-1201  아파트1-103-801  ...  \\\n",
       "2018-05-01 00:00:00         0.311          0.358         0.177  ...   \n",
       "2018-05-01 01:00:00         0.225          0.206         0.178  ...   \n",
       "2018-05-01 02:00:00         0.221          0.150         0.152  ...   \n",
       "2018-05-01 03:00:00         0.274          0.142         0.205  ...   \n",
       "2018-05-01 04:00:00         0.255          0.139         0.169  ...   \n",
       "\n",
       "                     아파트1-102-901  아파트1-103-1905  아파트1-103-503  아파트1-103-1504  \\\n",
       "2018-05-01 00:00:00         0.372          0.181         0.322          0.374   \n",
       "2018-05-01 01:00:00         0.245          0.238         0.292          0.382   \n",
       "2018-05-01 02:00:00         0.245          0.250         0.287          0.320   \n",
       "2018-05-01 03:00:00         0.177          0.223         0.329          0.170   \n",
       "2018-05-01 04:00:00         0.129          0.171         0.301          0.168   \n",
       "\n",
       "                     아파트1-103-606  아파트1-103-903  아파트1-103-1106  아파트1-103-705  \\\n",
       "2018-05-01 00:00:00         0.571         0.453          0.161         0.127   \n",
       "2018-05-01 01:00:00         0.327         0.352          0.172         0.133   \n",
       "2018-05-01 02:00:00         0.359         0.366          0.242         0.219   \n",
       "2018-05-01 03:00:00         0.322         0.267          0.269         0.164   \n",
       "2018-05-01 04:00:00         0.351         0.255          0.170         0.132   \n",
       "\n",
       "                     아파트1-103-1505  아파트1-103-406  \n",
       "2018-05-01 00:00:00          0.259         0.364  \n",
       "2018-05-01 01:00:00          0.234         0.286  \n",
       "2018-05-01 02:00:00          0.197         0.368  \n",
       "2018-05-01 03:00:00          0.229         0.414  \n",
       "2018-05-01 04:00:00          0.198         0.318  \n",
       "\n",
       "[5 rows x 108 columns]"
      ]
     },
     "execution_count": 193,
     "metadata": {},
     "output_type": "execute_result"
    }
   ],
   "source": [
    "# 1. load_excel\n",
    "data_path = \"data/apt_1.xlsx\"\n",
    "xlsx = pd.read_excel(data_path, header=None,\n",
    "                     skiprows=2, engine=\"openpyxl\")\n",
    "\n",
    "# 2. data preprocessing\n",
    "df = data_preprocessing(xlsx)\n",
    "\n",
    "# 3. dimension_reduction\n",
    "df = dimension_reduction(df)\n",
    "\n",
    "# 4. day clustering\n",
    "df = df[:24]\n",
    "tdKMeans = TimeDivisionKMeans(df)\n",
    "\n",
    "df.head()"
   ]
  },
  {
   "cell_type": "code",
   "execution_count": 195,
   "id": "69b1a187",
   "metadata": {},
   "outputs": [
    {
     "name": "stdout",
     "output_type": "stream",
     "text": [
      "init_setting func start\n",
      "init_setting func end\n"
     ]
    }
   ],
   "source": [
    "tdKMeans.init_setting()"
   ]
  },
  {
   "cell_type": "code",
   "execution_count": 251,
   "id": "53f99f97",
   "metadata": {},
   "outputs": [],
   "source": [
    "size = 3\n",
    "division_round = 0\n",
    "households_size = len(df.columns)\n",
    "total_size = len(df)\n",
    "division_size = round(total_size / size)\n",
    "\n",
    "division_df = [df[_:_ + size] for _ in range(0,total_size, size)]"
   ]
  },
  {
   "cell_type": "code",
   "execution_count": 385,
   "id": "31690fc4",
   "metadata": {},
   "outputs": [
    {
     "data": {
      "text/plain": [
       "array([[0.161, 0.179, 0.182],\n",
       "       [0.337, 0.374, 0.282],\n",
       "       [0.335, 0.19 , 0.143],\n",
       "       [0.539, 0.242, 0.24 ],\n",
       "       [0.571, 0.327, 0.359],\n",
       "       [0.364, 0.252, 0.268],\n",
       "       [0.245, 0.257, 0.231]])"
      ]
     },
     "execution_count": 385,
     "metadata": {},
     "output_type": "execute_result"
    }
   ],
   "source": [
    "init_K = np.array([])\n",
    "K_pattern = np.array([])\n",
    "\n",
    "while len(init_K) < 7:\n",
    "    _K = ran.randint(0, households_size)\n",
    "    \n",
    "    if _K not in init_K:\n",
    "        init_K = np.append(init_K, _K)\n",
    "        \n",
    "now_df = division_df[division_round].copy().T\n",
    "idxes = now_df.index\n",
    "\n",
    "for _K in init_K:\n",
    "    idx = idxes[int(_K)]\n",
    "    pattern = now_df.loc[idx].values\n",
    "    K_pattern = np.append(\n",
    "        K_pattern,\n",
    "        pattern\n",
    "    )\n",
    "    \n",
    "K_pattern = K_pattern.reshape(-1,size)\n",
    "\n",
    "K_pattern"
   ]
  },
  {
   "cell_type": "code",
   "execution_count": null,
   "id": "2768cce9",
   "metadata": {},
   "outputs": [],
   "source": [
    "prev_clusters = None"
   ]
  },
  {
   "cell_type": "code",
   "execution_count": 402,
   "id": "fd425cec",
   "metadata": {},
   "outputs": [
    {
     "name": "stdout",
     "output_type": "stream",
     "text": [
      "True\n"
     ]
    },
    {
     "data": {
      "text/plain": [
       "array([1., 0., 1., 0., 0., 0., 0., 2., 2., 0., 1., 0., 1., 5., 1., 4., 0.,\n",
       "       3., 6., 6., 6., 0., 0., 2., 5., 5., 6., 1., 3., 0., 4., 5., 0., 3.,\n",
       "       6., 0., 4., 4., 1., 3., 0., 6., 0., 4., 3., 4., 4., 0., 2., 0., 4.,\n",
       "       0., 5., 6., 3., 5., 6., 6., 4., 6., 5., 2., 4., 1., 6., 4., 6., 0.,\n",
       "       0., 0., 5., 0., 0., 0., 6., 0., 6., 6., 2., 0., 4., 6., 6., 0., 1.,\n",
       "       6., 4., 1., 5., 4., 0., 0., 5., 6., 1., 6., 6., 1., 5., 6., 5., 1.,\n",
       "       3., 1., 6., 0., 6., 1.])"
      ]
     },
     "execution_count": 402,
     "metadata": {},
     "output_type": "execute_result"
    }
   ],
   "source": [
    "clusters = np.array([])\n",
    "\n",
    "for idx in now_df.index:\n",
    "    test = now_df.loc[idx].values\n",
    "    test = np.expand_dims(test, axis=0)\n",
    "\n",
    "    cluster = euc(test, K_pattern).argmin()\n",
    "    clusters = np.append(clusters, cluster)\n",
    "\n",
    "\n",
    "print((clusters == prev_clusters).all())\n",
    "prev_clusters = clusters\n",
    "clusters"
   ]
  },
  {
   "cell_type": "code",
   "execution_count": 403,
   "id": "99a669e9",
   "metadata": {},
   "outputs": [],
   "source": [
    "next_round_K_pattern = np.array([])\n",
    "\n",
    "for idx in range(0, 7):\n",
    "    next_round_K_pattern = np.append(\n",
    "        next_round_K_pattern,\n",
    "        (np.round(now_df[clusters == idx].mean() * 1000) / 1000)\n",
    "    )\n",
    "next_round_K_pattern = next_round_K_pattern.reshape(-1, size)    \n",
    "K_pattern = next_round_K_pattern"
   ]
  },
  {
   "cell_type": "code",
   "execution_count": 406,
   "id": "20e86c0d",
   "metadata": {},
   "outputs": [
    {
     "data": {
      "text/plain": [
       "array([[0.136, 0.127, 0.13 ],\n",
       "       [0.36 , 0.354, 0.377],\n",
       "       [0.338, 0.208, 0.176],\n",
       "       [0.559, 0.292, 0.255],\n",
       "       [0.675, 0.571, 0.476],\n",
       "       [0.367, 0.295, 0.273],\n",
       "       [0.228, 0.238, 0.23 ]])"
      ]
     },
     "execution_count": 406,
     "metadata": {},
     "output_type": "execute_result"
    }
   ],
   "source": [
    "K_pattern"
   ]
  },
  {
   "cell_type": "code",
   "execution_count": 436,
   "id": "521554fa",
   "metadata": {},
   "outputs": [
    {
     "data": {
      "text/plain": [
       "array([4, 3, 1, 5, 2, 6, 0])"
      ]
     },
     "execution_count": 436,
     "metadata": {},
     "output_type": "execute_result"
    }
   ],
   "source": [
    "K_pattern.sum(axis=1).argsort()[::-1]"
   ]
  },
  {
   "cell_type": "code",
   "execution_count": 437,
   "id": "a0ca0f6c",
   "metadata": {},
   "outputs": [
    {
     "data": {
      "text/plain": [
       "array([4, 3, 1, 5, 2, 6, 0])"
      ]
     },
     "execution_count": 437,
     "metadata": {},
     "output_type": "execute_result"
    }
   ],
   "source": [
    "K_pattern.sum(axis=1).argsort()[::-1]"
   ]
  },
  {
   "cell_type": "code",
   "execution_count": 430,
   "id": "02605ff9",
   "metadata": {},
   "outputs": [
    {
     "data": {
      "image/png": "[encoded data removed]",
      "text/plain": [
       "<Figure size 1440x720 with 1 Axes>"
      ]
     },
     "metadata": {
      "needs_background": "light"
     },
     "output_type": "display_data"
    }
   ],
   "source": [
    "plt.figure(figsize=(20,10))\n",
    "\n",
    "plt.plot(now_df[clusters == 4].T.values, color='g', linewidth=0.2)\n",
    "plt.plot(K_pattern[4], color='g', linewidth=2)\n",
    "\n",
    "plt.show()"
   ]
  },
  {
   "cell_type": "code",
   "execution_count": null,
   "id": "30d5b507",
   "metadata": {},
   "outputs": [],
   "source": []
  }
 ],
 "metadata": {
  "kernelspec": {
   "display_name": "Python 3 (ipykernel)",
   "language": "python",
   "name": "python3"
  },
  "language_info": {
   "codemirror_mode": {
    "name": "ipython",
    "version": 3
   },
   "file_extension": ".py",
   "mimetype": "text/x-python",
   "name": "python",
   "nbconvert_exporter": "python",
   "pygments_lexer": "ipython3",
   "version": "3.8.12"
  }
 },
 "nbformat": 4,
 "nbformat_minor": 5
}
