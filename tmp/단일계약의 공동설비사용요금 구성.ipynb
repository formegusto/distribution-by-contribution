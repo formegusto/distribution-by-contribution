{
 "cells": [
  {
   "cell_type": "code",
   "execution_count": 1,
   "id": "a3ebccff",
   "metadata": {},
   "outputs": [],
   "source": [
    "%load_ext autoreload\n",
    "%autoreload 2\n",
    "%reload_ext autoreload"
   ]
  },
  {
   "cell_type": "code",
   "execution_count": 2,
   "id": "d9cc2acf",
   "metadata": {},
   "outputs": [],
   "source": [
    "import pandas as pd\n",
    "import numpy as np\n",
    "%matplotlib inline\n",
    "import matplotlib\n",
    "import matplotlib.pyplot as plt\n",
    "import math as mt\n",
    "\n",
    "import src.crs as crs\n",
    "\n",
    "# 한글출력\n",
    "matplotlib.rc('font', family='AppleGothic')  # MacOS\n",
    "# matplotlib.rc('font', family='Malgun Gothic')  # Windows\n",
    "plt.rcParams['axes.unicode_minus'] = False"
   ]
  },
  {
   "cell_type": "markdown",
   "id": "8121b7b9",
   "metadata": {},
   "source": [
    "# Reco Process"
   ]
  },
  {
   "cell_type": "code",
   "execution_count": 3,
   "id": "4e955c96",
   "metadata": {},
   "outputs": [
    {
     "name": "stderr",
     "output_type": "stream",
     "text": [
      "/Users/formegusto/Desktop/idoformegusto/development/research/distribution-by-contribution/src/crs/utils/data_preprocessing.py:26: PerformanceWarning: DataFrame is highly fragmented.  This is usually the result of calling `frame.insert` many times, which has poor performance.  Consider joining all columns at once using pd.concat(axis=1) instead.  To get a de-fragmented frame, use `newframe = frame.copy()`\n",
      "  datas_df[household_name] = household_df[col][3:].to_list()\n",
      "/Users/formegusto/Desktop/idoformegusto/development/research/distribution-by-contribution/src/crs/utils/data_preprocessing.py:49: PerformanceWarning: DataFrame is highly fragmented.  This is usually the result of calling `frame.insert` many times, which has poor performance.  Consider joining all columns at once using pd.concat(axis=1) instead.  To get a de-fragmented frame, use `newframe = frame.copy()`\n",
      "  month_usage_df[name] = [\n"
     ]
    }
   ],
   "source": [
    "# 1. load_excel\n",
    "data_path = \"data/apt_1.xlsx\"\n",
    "xlsx = pd.read_excel(data_path, header=None,\n",
    "                     skiprows=2, engine=\"openpyxl\")\n",
    "\n",
    "# 2. data-preprocessing\n",
    "p, m = crs.utils.data_preprocessing(xlsx)\n",
    "\n",
    "# 3. bill calc\n",
    "min_per = 10\n",
    "max_per = 80\n",
    "\n",
    "bc_result = crs.utils.bill_calc(m, p, min_per, max_per)\n",
    "\n",
    "# 4. normal analysis\n",
    "n_result = crs.utils.normal_analysis(bc_result)\n",
    "\n",
    "# 5. mean analysis\n",
    "m_result = crs.utils.mean_analysis(m, p, min_per, max_per)\n",
    "\n",
    "# 6. similarity analysis\n",
    "s_result = crs.utils.similarity_analysis(m, p, min_per, max_per)"
   ]
  },
  {
   "cell_type": "markdown",
   "id": "b607884a",
   "metadata": {},
   "source": [
    "# 세대부, 공용부, APT (아파트 전체 사용량 혹은 사용요금)\n",
    "- 2020.01 데이터를 기준으로, 한전 계산기도 2020.01 방식으로 계산이 들어간다."
   ]
  },
  {
   "cell_type": "code",
   "execution_count": 4,
   "id": "432d5b12",
   "metadata": {},
   "outputs": [
    {
     "data": {
      "text/html": [
       "<div>\n",
       "<style scoped>\n",
       "    .dataframe tbody tr th:only-of-type {\n",
       "        vertical-align: middle;\n",
       "    }\n",
       "\n",
       "    .dataframe tbody tr th {\n",
       "        vertical-align: top;\n",
       "    }\n",
       "\n",
       "    .dataframe thead th {\n",
       "        text-align: right;\n",
       "    }\n",
       "</style>\n",
       "<table border=\"1\" class=\"dataframe\">\n",
       "  <thead>\n",
       "    <tr style=\"text-align: right;\">\n",
       "      <th></th>\n",
       "      <th>세대부 (108 가구)</th>\n",
       "      <th>공용부 (30%)</th>\n",
       "      <th>APT</th>\n",
       "    </tr>\n",
       "  </thead>\n",
       "  <tbody>\n",
       "    <tr>\n",
       "      <th>사용량</th>\n",
       "      <td>31,104kWh</td>\n",
       "      <td>13,330kWh</td>\n",
       "      <td>44,434kWh</td>\n",
       "    </tr>\n",
       "    <tr>\n",
       "      <th>요금</th>\n",
       "      <td>3,798,980원</td>\n",
       "      <td>2,640,560원</td>\n",
       "      <td>6,439,540원</td>\n",
       "    </tr>\n",
       "  </tbody>\n",
       "</table>\n",
       "</div>"
      ],
      "text/plain": [
       "    세대부 (108 가구)   공용부 (30%)         APT\n",
       "사용량    31,104kWh   13,330kWh   44,434kWh\n",
       "요금    3,798,980원  2,640,560원  6,439,540원"
      ]
     },
     "execution_count": 4,
     "metadata": {},
     "output_type": "execute_result"
    }
   ],
   "source": [
    "households_cnt = len(m.iloc[0][1:])\n",
    "public_percentage = 30\n",
    "\n",
    "df_1 = pd.DataFrame(columns=[\"세대부 ({} 가구)\".format(households_cnt), \n",
    "                             \"공용부 ({}%)\".format(public_percentage),\n",
    "                            \"APT\"])\n",
    "\n",
    "# 사용량\n",
    "households_kwh = m.iloc[0][1:].sum()\n",
    "APT = round((households_kwh * 100) / (100 - public_percentage))\n",
    "public_kwh = APT - households_kwh\n",
    "\n",
    "# 최종청구금액\n",
    "APT_bill = int(bc_result['bill']['single'][str(public_percentage)][1])\n",
    "public_bill = int(bc_result['public_bill']['single'][str(public_percentage)][1])\n",
    "households_bill = APT_bill - public_bill\n",
    "\n",
    "df_1.loc['사용량'] = [\n",
    "    \"{}kWh\".format(format(households_kwh,\",\")), \n",
    "    \"{}kWh\".format(format(public_kwh,\",\")), \n",
    "    \"{}kWh\".format(format(APT,\",\"))]\n",
    "df_1.loc['요금'] = [\n",
    "    \"{}원\".format(format(households_bill,\",\")), \n",
    "    \"{}원\".format(format(public_bill,\",\")), \n",
    "    \"{}원\".format(format(APT_bill,\",\"))]\n",
    "df_1"
   ]
  },
  {
   "cell_type": "markdown",
   "id": "8ff87cd8",
   "metadata": {},
   "source": [
    "#### 사용량은 가구 수로 나누고, 계산으로 산출되는 요금들은 가구 수로 곱해져서 산정되는 형태"
   ]
  },
  {
   "cell_type": "code",
   "execution_count": 5,
   "id": "f9e53c39",
   "metadata": {},
   "outputs": [
    {
     "name": "stdout",
     "output_type": "stream",
     "text": [
      "요금산정사용량 (4사 5입) = 411kWh\n"
     ]
    },
    {
     "data": {
      "text/html": [
       "<div>\n",
       "<style scoped>\n",
       "    .dataframe tbody tr th:only-of-type {\n",
       "        vertical-align: middle;\n",
       "    }\n",
       "\n",
       "    .dataframe tbody tr th {\n",
       "        vertical-align: top;\n",
       "    }\n",
       "\n",
       "    .dataframe thead th {\n",
       "        text-align: right;\n",
       "    }\n",
       "</style>\n",
       "<table border=\"1\" class=\"dataframe\">\n",
       "  <thead>\n",
       "    <tr style=\"text-align: right;\">\n",
       "      <th></th>\n",
       "      <th>기본요금</th>\n",
       "      <th>전력량요금</th>\n",
       "      <th>기후환경요금</th>\n",
       "      <th>연료비조정요금</th>\n",
       "      <th>전기요금계</th>\n",
       "      <th>최종청구금액</th>\n",
       "    </tr>\n",
       "  </thead>\n",
       "  <tbody>\n",
       "    <tr>\n",
       "      <th>단일계약요금표 산정액</th>\n",
       "      <td>6,060원</td>\n",
       "      <td>45,436원</td>\n",
       "      <td>2,178원</td>\n",
       "      <td>1,233원</td>\n",
       "      <td>52,441원</td>\n",
       "      <td>-</td>\n",
       "    </tr>\n",
       "    <tr>\n",
       "      <th>가구 수 적용</th>\n",
       "      <td>654,480원</td>\n",
       "      <td>4,907,088원</td>\n",
       "      <td>235,224원</td>\n",
       "      <td>133,164원</td>\n",
       "      <td>5,663,628원</td>\n",
       "      <td>-</td>\n",
       "    </tr>\n",
       "    <tr>\n",
       "      <th>부가가치세, 전력산업기반기금 적용</th>\n",
       "      <td>-</td>\n",
       "      <td>-</td>\n",
       "      <td>-</td>\n",
       "      <td>-</td>\n",
       "      <td>-</td>\n",
       "      <td>6,439,540원</td>\n",
       "    </tr>\n",
       "  </tbody>\n",
       "</table>\n",
       "</div>"
      ],
      "text/plain": [
       "                        기본요금       전력량요금    기후환경요금   연료비조정요금       전기요금계  \\\n",
       "단일계약요금표 산정액           6,060원     45,436원    2,178원    1,233원     52,441원   \n",
       "가구 수 적용             654,480원  4,907,088원  235,224원  133,164원  5,663,628원   \n",
       "부가가치세, 전력산업기반기금 적용         -           -         -         -           -   \n",
       "\n",
       "                        최종청구금액  \n",
       "단일계약요금표 산정액                  -  \n",
       "가구 수 적용                      -  \n",
       "부가가치세, 전력산업기반기금 적용  6,439,540원  "
      ]
     },
     "execution_count": 5,
     "metadata": {},
     "output_type": "execute_result"
    }
   ],
   "source": [
    "# 1. APT (아파트 전체 사용량) 에서 요금 산정에 쓰일 \n",
    "#    요금 산정 사용량을 가구 수(108)를 나누어 구한다. (4사 5입)\n",
    "calc_APT = round(APT / households_cnt)\n",
    "print(\"요금산정사용량 (4사 5입) = {}kWh\".format(calc_APT))\n",
    "\n",
    "# 2. 요금산정사용량(calc_APT)을 주택용 고압 요금표에 맞추어 전기요금계를 계산하게 된다.\n",
    "#  - 해당 과정에서 산정되는 기본요금, 전력량요금, 기후환경요금, 연료비조정요금은\n",
    "#    모두 가구 수(108)가 곱해진 가격으로 계산된다. \n",
    "df_2 = pd.DataFrame(columns=['기본요금', '전력량요금', '기후환경요금', '연료비조정요금', '전기요금계'])\n",
    "\n",
    "# 기본요금, 전력량요금, 기후환경요금, 연료비조정요금 계산\n",
    "in_df = []\n",
    "mgmt_office = bc_result['mgmt_list']['single'][0][public_percentage - min_per]\n",
    "apart = mgmt_office.apart\n",
    "in_df.append(apart.basic), in_df.append(apart.elec_rate), in_df.append(apart.env), in_df.append(apart.fuel)\n",
    "in_df.append(\n",
    "    (apart.basic) \\\n",
    "    + (apart.elec_rate) \\\n",
    "    + (apart.env) \\\n",
    "    - (apart.fuel)\n",
    ")\n",
    "\n",
    "df_2.loc['단일계약요금표 산정액'] = [\"{}원\".format(format(_,\",\")) for _ in in_df]\n",
    "df_2.loc['가구 수 적용'] = [\"{}원\".format(format(_,\",\")) for _ in np.array(in_df) * households_cnt]\n",
    "df_2.loc['부가가치세, 전력산업기반기금 적용'] = ['-','-','-','-','-']\n",
    "df_2['최종청구금액'] = ['-', '-', \"{}원\".format(format(mgmt_office.bill, \",\"))]\n",
    "df_2"
   ]
  },
  {
   "cell_type": "markdown",
   "id": "df13b53b",
   "metadata": {},
   "source": [
    "#### 산정된 아파트 전체 요금에서 수거되는 세대부 요금\n",
    "- 각 가구들은 자신이 사용한 만큼은 산정된 아파트 전체 요금에서 수거해간다. 그리고 이 나머지로 만들어지는 것이 공용부의 요금이다.\n",
    "- 해당 표는 직관적으로 나타내기 위한 표로, 실제 가구별 요금 산정 시 원 미만 절사, 4사 5입 등의 계산이 추가적으로 들어가기 때문에 위와 같이 나타내면 실제 합산 요금과는 다르게 나타나기 때문에 합산요금은 포함하지 않았다."
   ]
  },
  {
   "cell_type": "code",
   "execution_count": 6,
   "id": "44ef59e5",
   "metadata": {},
   "outputs": [
    {
     "data": {
      "text/html": [
       "<div>\n",
       "<style scoped>\n",
       "    .dataframe tbody tr th:only-of-type {\n",
       "        vertical-align: middle;\n",
       "    }\n",
       "\n",
       "    .dataframe tbody tr th {\n",
       "        vertical-align: top;\n",
       "    }\n",
       "\n",
       "    .dataframe thead th {\n",
       "        text-align: right;\n",
       "    }\n",
       "</style>\n",
       "<table border=\"1\" class=\"dataframe\">\n",
       "  <thead>\n",
       "    <tr style=\"text-align: right;\">\n",
       "      <th></th>\n",
       "      <th>APT</th>\n",
       "      <th>세대부</th>\n",
       "      <th>공용부</th>\n",
       "    </tr>\n",
       "  </thead>\n",
       "  <tbody>\n",
       "    <tr>\n",
       "      <th>기본요금</th>\n",
       "      <td>654,480원</td>\n",
       "      <td>197,480원</td>\n",
       "      <td>457,000원</td>\n",
       "    </tr>\n",
       "    <tr>\n",
       "      <th>전력량요금</th>\n",
       "      <td>4,907,088원</td>\n",
       "      <td>3,118,820원</td>\n",
       "      <td>1,788,268원</td>\n",
       "    </tr>\n",
       "    <tr>\n",
       "      <th>기후환경요금</th>\n",
       "      <td>235,224원</td>\n",
       "      <td>164,805원</td>\n",
       "      <td>70,419원</td>\n",
       "    </tr>\n",
       "    <tr>\n",
       "      <th>연료비조정요금</th>\n",
       "      <td>133,164원</td>\n",
       "      <td>93,312원</td>\n",
       "      <td>39,852원</td>\n",
       "    </tr>\n",
       "  </tbody>\n",
       "</table>\n",
       "</div>"
      ],
      "text/plain": [
       "                APT         세대부         공용부\n",
       "기본요금       654,480원    197,480원    457,000원\n",
       "전력량요금    4,907,088원  3,118,820원  1,788,268원\n",
       "기후환경요금     235,224원    164,805원     70,419원\n",
       "연료비조정요금    133,164원     93,312원     39,852원"
      ]
     },
     "execution_count": 6,
     "metadata": {},
     "output_type": "execute_result"
    }
   ],
   "source": [
    "df_3 = pd.DataFrame(index=[\"기본요금\", \"전력량요금\", \"기후환경요금\", \n",
    "                           \"연료비조정요금\"])\n",
    "df_3['APT'] = df_2.iloc[1].values[:4]\n",
    "\n",
    "# 세대부 수거액\n",
    "households = bc_result['mgmt_list']['single'][0][20].households\n",
    "basic = np.array([_.basic for _ in households])\n",
    "elec_rate = np.array([_.elec_rate for _ in households])\n",
    "env = np.array([_.env for _ in households])\n",
    "fuel = np.array([_.fuel for _ in households])\n",
    "households_total = np.array([basic.sum(), elec_rate.sum(), env.sum(), fuel.sum()])\n",
    "\n",
    "df_3['세대부'] = [\"{}원\".format(format(_,\",\")) for _ in households_total]\n",
    "\n",
    "# 공용부 수거액\n",
    "public_total = (np.array(in_df[:4]) * households_cnt) - households_total\n",
    "df_3['공용부'] = [\"{}원\".format(format(_,\",\")) for _ in public_total]\n",
    "\n",
    "df_3"
   ]
  },
  {
   "cell_type": "markdown",
   "id": "707a4a44",
   "metadata": {},
   "source": [
    "#### “APT - 세대부”로 산정되는 공용부 요금의 특징 ( 부제 : 임의 공용부 계산 )"
   ]
  },
  {
   "cell_type": "markdown",
   "id": "c379e726",
   "metadata": {},
   "source": [
    "1. 요금 산정 사용량에서의 세대부 공용부 별 사용량 구분\n",
    "- 각 가구들이 자신이 사용한 만큼은 아파트 전체 요금에서 수거해간다라고 생각을 해봤을 때, 사용량 면에서 봤을 때, 공용부는 위의 표와 같이 세대부가 전부 수거해 간 사용량 이후의 누진세 영향이 받아진 요금을 나타낼 것 이라고 예측을 해봤다."
   ]
  },
  {
   "cell_type": "code",
   "execution_count": 7,
   "id": "17556497",
   "metadata": {},
   "outputs": [
    {
     "data": {
      "text/html": [
       "<div>\n",
       "<style scoped>\n",
       "    .dataframe tbody tr th:only-of-type {\n",
       "        vertical-align: middle;\n",
       "    }\n",
       "\n",
       "    .dataframe tbody tr th {\n",
       "        vertical-align: top;\n",
       "    }\n",
       "\n",
       "    .dataframe thead th {\n",
       "        text-align: right;\n",
       "    }\n",
       "</style>\n",
       "<table border=\"1\" class=\"dataframe\">\n",
       "  <thead>\n",
       "    <tr style=\"text-align: right;\">\n",
       "      <th></th>\n",
       "      <th>APT</th>\n",
       "      <th>세대부 (70%)</th>\n",
       "      <th>공용부 (30%)</th>\n",
       "    </tr>\n",
       "  </thead>\n",
       "  <tbody>\n",
       "    <tr>\n",
       "      <th>사용량</th>\n",
       "      <td>411kWh</td>\n",
       "      <td>288kWh</td>\n",
       "      <td>123kWh</td>\n",
       "    </tr>\n",
       "    <tr>\n",
       "      <th>누진세 1단계</th>\n",
       "      <td>200kWh</td>\n",
       "      <td>200kWh</td>\n",
       "      <td>-</td>\n",
       "    </tr>\n",
       "    <tr>\n",
       "      <th>누진세 2단계</th>\n",
       "      <td>200kWh</td>\n",
       "      <td>88kWh</td>\n",
       "      <td>112kWh</td>\n",
       "    </tr>\n",
       "    <tr>\n",
       "      <th>누진세 3단계</th>\n",
       "      <td>11kWh</td>\n",
       "      <td>-</td>\n",
       "      <td>11kWh</td>\n",
       "    </tr>\n",
       "  </tbody>\n",
       "</table>\n",
       "</div>"
      ],
      "text/plain": [
       "            APT 세대부 (70%) 공용부 (30%)\n",
       "사용량      411kWh    288kWh    123kWh\n",
       "누진세 1단계  200kWh    200kWh         -\n",
       "누진세 2단계  200kWh     88kWh    112kWh\n",
       "누진세 3단계   11kWh         -     11kWh"
      ]
     },
     "execution_count": 7,
     "metadata": {},
     "output_type": "execute_result"
    }
   ],
   "source": [
    "households_percentage = 100 - public_percentage\n",
    "\n",
    "calc_households = round(calc_APT * (households_percentage / 100))\n",
    "calc_public = round(calc_APT * (public_percentage / 100))\n",
    "\n",
    "df_4 = pd.DataFrame(index=[\"사용량\", \"누진세 1단계\", \"누진세 2단계\", \"누진세 3단계\"])\n",
    "\n",
    "# APT parsing\n",
    "APT_nugin = [calc_APT]\n",
    "_calc_APT = calc_APT\n",
    "\n",
    "step = 0\n",
    "while _calc_APT > 0:\n",
    "    if (step == 2) or (_calc_APT < 200):\n",
    "        APT_nugin.append(_calc_APT)\n",
    "        break\n",
    "    else:\n",
    "        _calc_APT -= 200\n",
    "        step += 1\n",
    "        APT_nugin.append(200)\n",
    "\n",
    "df_4['APT'] = [\"{}kWh\".format(_) for _ in APT_nugin]\n",
    "\n",
    "# 세대부\n",
    "households_nugin = [calc_households]\n",
    "_calc_households = calc_households\n",
    "step = 0\n",
    "while _calc_households > 0:\n",
    "    if (step == 2) or (_calc_households < 200):\n",
    "        households_nugin.append(_calc_households)\n",
    "        if step < 2:\n",
    "            for _ in range(step, 2):\n",
    "                households_nugin.append(\"-\")\n",
    "        break\n",
    "    else:\n",
    "        _calc_households -= 200\n",
    "        step += 1\n",
    "        households_nugin.append(200)\n",
    "        \n",
    "df_4['세대부 ({}%)'.format(households_percentage)] = \\\n",
    "    [_ if _ == \"-\" else \"{}kWh\".format(_) for _ in households_nugin]\n",
    "\n",
    "# 공용부\n",
    "public_nugin = [calc_public]\n",
    "_calc_public = calc_public\n",
    "step = 0\n",
    "for _step,_ in enumerate(households_nugin[1:]):\n",
    "    if _ == \"-\":\n",
    "        step = _step\n",
    "        break\n",
    "    else:\n",
    "        if _ == 200:\n",
    "            public_nugin.append(\"-\")\n",
    "        else:\n",
    "            err = 200 - _\n",
    "            err = calc_public if err > _calc_public else err\n",
    "            public_nugin.append(\n",
    "                err\n",
    "            )\n",
    "            _calc_public -= err\n",
    "if _calc_public > 0:\n",
    "    while _calc_public > 0:\n",
    "        if (step == 2) or (_calc_public < 200):\n",
    "            public_nugin.append(_calc_public)\n",
    "            break\n",
    "        else:\n",
    "            _calc_public -= 200\n",
    "            step += 1\n",
    "            public_nugin.append(200)\n",
    "    \n",
    "df_4['공용부 ({}%)'.format(public_percentage)] = \\\n",
    "    [_ if _ == \"-\" else \"{}kWh\".format(_) for _ in public_nugin]\n",
    "df_4"
   ]
  },
  {
   "cell_type": "markdown",
   "id": "8a95be90",
   "metadata": {},
   "source": [
    "2. 기본요금, 전력량요금 계산\n",
    "- 누진세 단계에 직접적으로 영향을 받는 요금인 기본요금과 전력량요금을 해당 실험의 대상으로 정했다."
   ]
  },
  {
   "cell_type": "markdown",
   "id": "9bdf25e0",
   "metadata": {},
   "source": [
    "#### 기본요금\n",
    "- 일반적으로 특정 누진세에 대한 가격만 들어가는 기본요금이지만, 단일계약은 “특정 누진세 단계 X 가구 수”의 계산으로 아파트 전체요금이 정해지기 때문에, 해당 실험의 기본요금 산정은 APT 요금 산정 사용량 411kWh 중에서 공용부 사용량으로 예측되는 123kWh 중 누진세 2단계를 차지하는 구간만큼에 2단계 가격을 적용하고, 누진세 3단계를 차지하는 구간만큼에는 3단계 가격을 적용시키는 방법을 사용했다."
   ]
  },
  {
   "cell_type": "code",
   "execution_count": 8,
   "id": "6e48b25c",
   "metadata": {},
   "outputs": [
    {
     "name": "stdout",
     "output_type": "stream",
     "text": [
      "기본요금 : 184,080원\n"
     ]
    }
   ],
   "source": [
    "public_basic = 0\n",
    "nugin_basic = [730, 1260, 6060]\n",
    "start_step = 0\n",
    "for idx,_ in enumerate(public_nugin[1:]):\n",
    "    if _ != \"-\":\n",
    "        start_step = idx\n",
    "        break\n",
    "        \n",
    "for idx,p in enumerate(public_nugin[1 + start_step:]):\n",
    "    rate = round(round(p / calc_public * 100) / 100 * households_cnt)\n",
    "    public_basic += nugin_basic[start_step + idx] * rate\n",
    "    \n",
    "print(\"기본요금 : {}원\".format(format(public_basic, \",\")))"
   ]
  },
  {
   "cell_type": "markdown",
   "id": "8e00f77e",
   "metadata": {},
   "source": [
    "#### 전력량요금"
   ]
  },
  {
   "cell_type": "code",
   "execution_count": 9,
   "id": "b92de024",
   "metadata": {},
   "outputs": [
    {
     "data": {
      "text/html": [
       "<div>\n",
       "<style scoped>\n",
       "    .dataframe tbody tr th:only-of-type {\n",
       "        vertical-align: middle;\n",
       "    }\n",
       "\n",
       "    .dataframe tbody tr th {\n",
       "        vertical-align: top;\n",
       "    }\n",
       "\n",
       "    .dataframe thead th {\n",
       "        text-align: right;\n",
       "    }\n",
       "</style>\n",
       "<table border=\"1\" class=\"dataframe\">\n",
       "  <thead>\n",
       "    <tr style=\"text-align: right;\">\n",
       "      <th></th>\n",
       "      <th>실제 공용부 요금</th>\n",
       "      <th>임의 공용부 요금</th>\n",
       "    </tr>\n",
       "  </thead>\n",
       "  <tbody>\n",
       "    <tr>\n",
       "      <th>기본요금</th>\n",
       "      <td>457,000원</td>\n",
       "      <td>184,080원</td>\n",
       "    </tr>\n",
       "    <tr>\n",
       "      <th>전력량요금</th>\n",
       "      <td>1,788,268원</td>\n",
       "      <td>1,971,324원</td>\n",
       "    </tr>\n",
       "    <tr>\n",
       "      <th>합계</th>\n",
       "      <td>2,245,268원</td>\n",
       "      <td>2,155,404원 (오차: -89,864원)</td>\n",
       "    </tr>\n",
       "  </tbody>\n",
       "</table>\n",
       "</div>"
      ],
      "text/plain": [
       "        실제 공용부 요금                  임의 공용부 요금\n",
       "기본요금     457,000원                   184,080원\n",
       "전력량요금  1,788,268원                 1,971,324원\n",
       "합계     2,245,268원  2,155,404원 (오차: -89,864원)"
      ]
     },
     "execution_count": 9,
     "metadata": {},
     "output_type": "execute_result"
    }
   ],
   "source": [
    "public_elec = 0\n",
    "nugin_elec = [73.3, 142.3, 210.6]\n",
    "\n",
    "for idx,p in enumerate(public_nugin[1 + start_step:]):\n",
    "    _elec = mt.floor(p * nugin_elec[start_step + idx])\n",
    "    public_elec += _elec\n",
    "public_elec *= households_cnt\n",
    "\n",
    "df_5 = pd.DataFrame(index=['기본요금', '전력량요금'])\n",
    "og_public = df_3['공용부'][:2].values\n",
    "tmp_public_total = np.array([public_basic, public_elec])\n",
    "tmp_public = [\"{}원\".format(format(_,\",\")) for _ in tmp_public_total]\n",
    "\n",
    "df_5['실제 공용부 요금'] = og_public\n",
    "df_5['임의 공용부 요금'] = tmp_public\n",
    "df_5.loc['합계'] = [\n",
    "    \"{}원\".format(format(public_total[:2].sum(), \",\")),\n",
    "    \"{}원 (오차: {}원)\".format(\n",
    "        format(tmp_public_total[:2].sum(), \",\"),\n",
    "        format(tmp_public_total[:2].sum() - public_total[:2].sum(), \",\")\n",
    "    )\n",
    "]\n",
    "\n",
    "df_5"
   ]
  },
  {
   "cell_type": "markdown",
   "id": "f50dcd3a",
   "metadata": {},
   "source": [
    "- 세부적인 요금으로 봤을 때는 전혀다른 가격대를 보여줬지만, 이들의 합계를 봤을 때, “누진세 2단계부터 계산을 시작한 임의 공용부 요금+@” 의 결과를 보여줬다.\n",
    "- **공용부의 요금은 아파트 전체 사용량 면에서 세대부 사용량 이후의 누진단계가 적용된 사용량 요금이 적용된다.**"
   ]
  },
  {
   "cell_type": "code",
   "execution_count": 10,
   "id": "221b6e8a",
   "metadata": {},
   "outputs": [
    {
     "data": {
      "image/png": "[encoded data removed]",
      "text/plain": [
       "<Figure size 1440x720 with 2 Axes>"
      ]
     },
     "metadata": {
      "needs_background": "light"
     },
     "output_type": "display_data"
    }
   ],
   "source": [
    "fig, axes = plt.subplots(nrows=1, ncols=2, figsize=(20, 10))\n",
    "columns=['APT', '세대부', '공용부']\n",
    "data = np.array([\n",
    "    [0, calc_APT],\n",
    "    [0, calc_households],\n",
    "    [0, calc_public]\n",
    "])\n",
    "\n",
    "axes[0].bar(columns,data[:,0],color=\"#8DACD1\", label=\"요금 미적용 구간\")\n",
    "axes[0].bar(columns,data[:,1],color=\"#7982B9\", bottom=data[:,0], label=\"요금 적용 구간\")\n",
    "\n",
    "axes[0].axhline(y=200, label=\"누진 2단계 구간\", color=\"#B2C8E0\")\n",
    "axes[0].axhline(y=400, label=\"누진 3단계 구간\", color=\"#B2C8E0\")\n",
    "\n",
    "axes[0].axhline(y=200, label=\"누진 2단계 구간\", color=\"#B2C8E0\")\n",
    "axes[0].axhline(y=400, label=\"누진 3단계 구간\", color=\"#B2C8E0\")\n",
    "\n",
    "axes[0].legend(loc=\"upper right\")\n",
    "\n",
    "axes[1].fill_between(data[0], calc_APT, color=\"#D9E8F1\", label=\"공용부 적용 구간\")\n",
    "axes[1].fill_between(data[1], calc_households, color=\"#F5FBFD\", label=\"세대부 적용 구간\")\n",
    "\n",
    "axes[1].legend()\n",
    "\n",
    "plt.show()"
   ]
  },
  {
   "cell_type": "markdown",
   "id": "f2a71ebd",
   "metadata": {},
   "source": [
    "- 왼쪽의 그래프는 어느 구간부터 요금이 적용되는지에 대한 예시이고, 오른쪽은 누진세 단계가 증가할 수록 전기요금의 증가율이 높다는 것을 나타내기 위해 공용부와 세대부의 요금이 적용되는 구간을 면적으로 표현했다.\n",
    "- 해당 실험은 세대부 사용량이 공용부 요금에 영향을 미친다는 것을 알아보기 위한 실험이었다. 시각화 자료들을 보면, 공용부는 세대부의 사용량 이후의 누진세 단계 부터 요금이 산정되고, 누진세가 적용되었기 때문에 세대부에 비해 작은 사용량일지라도 사용량에 따른 요금 증가율의 크기는 클 것 이다.\n",
    "- 세대부 사용량이 공용부 요금에 영향을 미친다는 의미는 모든 가구의 사용량이 합산되어진 세대부 사용량 안에서 누군가는 적은 사용량을 보이고, 누군가는 많은 사용량을 보일 수 있는데, 이것들이 세부적으로 계산되어지지 않고, 이들이 합산된 세대부 사용량으로 공용부 요금이 결정되기 때문에 사용량이 적은 가구 집단과 사용량이 많은 가구 집단 사이에 형평성의 문제가 발생할 수 있다.\n",
    "- 따라서 단일계약 상에 사용량이 적은 가구 집단과 사용량이 많은 가구 집단의 공용부 요금산정 기여도에 따른 가격분배를 통해 이들의 형평성 문제를 해결하는 것이 이번 과제의 주 목표이다."
   ]
  }
 ],
 "metadata": {
  "kernelspec": {
   "display_name": "Python 3 (ipykernel)",
   "language": "python",
   "name": "python3"
  },
  "language_info": {
   "codemirror_mode": {
    "name": "ipython",
    "version": 3
   },
   "file_extension": ".py",
   "mimetype": "text/x-python",
   "name": "python",
   "nbconvert_exporter": "python",
   "pygments_lexer": "ipython3",
   "version": "3.8.12"
  }
 },
 "nbformat": 4,
 "nbformat_minor": 5
}
