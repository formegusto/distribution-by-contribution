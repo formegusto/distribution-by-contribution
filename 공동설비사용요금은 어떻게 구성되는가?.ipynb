{
 "cells": [
  {
   "cell_type": "code",
   "execution_count": 13,
   "id": "a3ebccff",
   "metadata": {},
   "outputs": [],
   "source": [
    "%load_ext autoreload\n",
    "%autoreload 2\n",
    "%reload_ext autoreload"
   ]
  },
  {
   "cell_type": "code",
   "execution_count": 121,
   "id": "d9cc2acf",
   "metadata": {},
   "outputs": [],
   "source": [
    "import pandas as pd\n",
    "import numpy as np\n",
    "import matplotlib.pyplot as plt\n",
    "import math as mt\n",
    "\n",
    "import src.crs as crs"
   ]
  },
  {
   "cell_type": "markdown",
   "id": "8121b7b9",
   "metadata": {},
   "source": [
    "# 1. Reco Process"
   ]
  },
  {
   "cell_type": "code",
   "execution_count": 107,
   "id": "4e955c96",
   "metadata": {},
   "outputs": [
    {
     "name": "stderr",
     "output_type": "stream",
     "text": [
      "/Users/formegusto/Desktop/idoformegusto/development/research/distribution-by-contribution/src/crs/utils/data_preprocessing.py:26: PerformanceWarning: DataFrame is highly fragmented.  This is usually the result of calling `frame.insert` many times, which has poor performance.  Consider joining all columns at once using pd.concat(axis=1) instead.  To get a de-fragmented frame, use `newframe = frame.copy()`\n",
      "  datas_df[household_name] = household_df[col][3:].to_list()\n",
      "/Users/formegusto/Desktop/idoformegusto/development/research/distribution-by-contribution/src/crs/utils/data_preprocessing.py:49: PerformanceWarning: DataFrame is highly fragmented.  This is usually the result of calling `frame.insert` many times, which has poor performance.  Consider joining all columns at once using pd.concat(axis=1) instead.  To get a de-fragmented frame, use `newframe = frame.copy()`\n",
      "  month_usage_df[name] = [\n"
     ]
    },
    {
     "name": "stdout",
     "output_type": "stream",
     "text": [
      "가구 수: 108 / 평균: 288 / 표준편차: 120 / 변동계수: 42\n",
      "가구 수: 108 / 평균: 260 / 표준편차: 97 / 변동계수: 37\n",
      "가구 수: 108 / 평균: 273 / 표준편차: 92 / 변동계수: 34\n",
      "가구 수: 108 / 평균: 254 / 표준편차: 88 / 변동계수: 35\n",
      "가구 수: 108 / 평균: 240 / 표준편차: 89 / 변동계수: 37\n",
      "가구 수: 108 / 평균: 233 / 표준편차: 89 / 변동계수: 38\n",
      "가구 수: 108 / 평균: 326 / 표준편차: 135 / 변동계수: 41\n",
      "가구 수: 108 / 평균: 362 / 표준편차: 153 / 변동계수: 42\n",
      "가구 수: 108 / 평균: 231 / 표준편차: 92 / 변동계수: 40\n",
      "가구 수: 108 / 평균: 238 / 표준편차: 96 / 변동계수: 40\n",
      "가구 수: 108 / 평균: 251 / 표준편차: 106 / 변동계수: 42\n",
      "가구 수: 108 / 평균: 288 / 표준편차: 111 / 변동계수: 39\n",
      "가구 수: 108 / 평균: 270 / 표준편차: 96 / 변동계수: 36\n",
      "가구 수: 108 / 평균: 245 / 표준편차: 85 / 변동계수: 35\n"
     ]
    }
   ],
   "source": [
    "# 1. load_excel\n",
    "data_path = \"data/apt_1.xlsx\"\n",
    "xlsx = pd.read_excel(data_path, header=None,\n",
    "                     skiprows=2, engine=\"openpyxl\")\n",
    "\n",
    "# 2. data-preprocessing\n",
    "p, m = crs.utils.data_preprocessing(xlsx)\n",
    "\n",
    "# 3. bill calc\n",
    "min_per = 10\n",
    "max_per = 80\n",
    "\n",
    "bc_result = crs.utils.bill_calc(m, p, min_per, max_per)\n",
    "\n",
    "# 4. normal analysis\n",
    "n_result = crs.utils.normal_analysis(bc_result)\n",
    "\n",
    "# 5. mean analysis\n",
    "m_result = crs.utils.mean_analysis(m, p, min_per, max_per)\n",
    "\n",
    "# 6. similarity analysis\n",
    "s_result = crs.utils.similarity_analysis(m, p, min_per, max_per)"
   ]
  },
  {
   "cell_type": "code",
   "execution_count": 127,
   "id": "e4ce0e0f",
   "metadata": {},
   "outputs": [
    {
     "name": "stdout",
     "output_type": "stream",
     "text": [
      "411\n",
      "654480 4907088 235224 133164 5663628\n",
      "vat: 566363\n",
      "fund: 209550\n",
      "bill: 6439540\n"
     ]
    }
   ],
   "source": [
    "print(bc_result['mgmt_list']['single'][0][20].apart.kwh)\n",
    "\n",
    "basic = bc_result['mgmt_list']['single'][0][20].apart.basic * 108\n",
    "elec_rate = bc_result['mgmt_list']['single'][0][20].apart.elec_rate * 108\n",
    "env = bc_result['mgmt_list']['single'][0][20].apart.env * 108\n",
    "fuel = bc_result['mgmt_list']['single'][0][20].apart.fuel * 108\n",
    "elec_bill = basic + elec_rate + env - fuel\n",
    "\n",
    "\n",
    "print(basic, elec_rate, env, fuel, elec_bill)\n",
    "print(\"vat: {}\".format(round(elec_bill * 0.1)))\n",
    "print(\"fund: {}\".format(mt.floor(elec_bill * 0.037 * 0.1) * 10))\n",
    "print(\"bill: {}\".format(bc_result['mgmt_list']['single'][0][20].bill))"
   ]
  },
  {
   "cell_type": "code",
   "execution_count": null,
   "id": "83bf705a",
   "metadata": {},
   "outputs": [],
   "source": []
  },
  {
   "cell_type": "code",
   "execution_count": 166,
   "id": "7aec48b1",
   "metadata": {},
   "outputs": [],
   "source": [
    "households = bc_result['mgmt_list']['single'][0][20].households"
   ]
  },
  {
   "cell_type": "code",
   "execution_count": 180,
   "id": "e713c87c",
   "metadata": {},
   "outputs": [
    {
     "name": "stdout",
     "output_type": "stream",
     "text": [
      "기본요금 197480\n",
      "전력량요금 3118820\n",
      "환경 164805\n",
      "연료비 93312\n",
      "vat 334205\n",
      "fund 123150\n",
      "fund 50000\n",
      "fund 3798980\n"
     ]
    }
   ],
   "source": [
    "print(\"기본요금\",np.array([_.basic for _ in households]).sum())\n",
    "print(\"전력량요금\",np.array([_.elec_rate for _ in households]).sum())\n",
    "print(\"환경\",np.array([_.env for _ in households]).sum())\n",
    "print(\"연료비\",np.array([_.fuel for _ in households]).sum())\n",
    "print(\"vat\",np.array([_.vat for _ in households]).sum())\n",
    "print(\"fund\",np.array([_.fund for _ in households]).sum())\n",
    "print(\"fund\",np.array([_.guarantee for _ in households]).sum())\n",
    "print(\"fund\",np.array([_.elec_bill_vat_fund for _ in households]).sum())"
   ]
  },
  {
   "cell_type": "code",
   "execution_count": 162,
   "id": "2a7d37c9",
   "metadata": {},
   "outputs": [
    {
     "name": "stdout",
     "output_type": "stream",
     "text": [
      "39852\n"
     ]
    }
   ],
   "source": [
    "print(fuel - np.array([_.fuel for _ in bc_result['mgmt_list']['single'][0][20].households]).sum())"
   ]
  },
  {
   "cell_type": "code",
   "execution_count": 163,
   "id": "45c9cae8",
   "metadata": {},
   "outputs": [
    {
     "name": "stdout",
     "output_type": "stream",
     "text": [
      "457000\n",
      "123150\n"
     ]
    }
   ],
   "source": [
    "print(basic - np.array([_.basic for _ in bc_result['mgmt_list']['single'][0][20].households]).sum())\n",
    "print(np.array([_.fund for _ in bc_result['mgmt_list']['single'][0][20].households]).sum())"
   ]
  },
  {
   "cell_type": "code",
   "execution_count": 157,
   "id": "118f9437",
   "metadata": {},
   "outputs": [
    {
     "name": "stdout",
     "output_type": "stream",
     "text": [
      "232158\n",
      "86400\n"
     ]
    }
   ],
   "source": [
    "print(round(elec_bill * 0.1) - np.array([_.vat for _ in bc_result['mgmt_list']['single'][0][20].households]).sum())\n",
    "print((mt.floor(elec_bill * 0.037 * 0.1) * 10) - np.array([_.fund for _ in bc_result['mgmt_list']['single'][0][20].households]).sum())"
   ]
  },
  {
   "cell_type": "code",
   "execution_count": 135,
   "id": "2d33d9dd",
   "metadata": {},
   "outputs": [
    {
     "data": {
      "text/plain": [
       "39949.2"
      ]
     },
     "execution_count": 135,
     "metadata": {},
     "output_type": "execute_result"
    }
   ],
   "source": [
    "fuel * 0.3"
   ]
  },
  {
   "cell_type": "code",
   "execution_count": 131,
   "id": "e4cfc71c",
   "metadata": {},
   "outputs": [
    {
     "data": {
      "text/plain": [
       "6439540.0"
      ]
     },
     "execution_count": 131,
     "metadata": {},
     "output_type": "execute_result"
    }
   ],
   "source": [
    "bc_result['bill']['single'][\"30\"][1]"
   ]
  },
  {
   "cell_type": "code",
   "execution_count": 138,
   "id": "639d8534",
   "metadata": {},
   "outputs": [
    {
     "data": {
      "text/plain": [
       "70405.2"
      ]
     },
     "execution_count": 138,
     "metadata": {},
     "output_type": "execute_result"
    }
   ],
   "source": [
    "123 * 5.3 * 108"
   ]
  },
  {
   "cell_type": "code",
   "execution_count": 132,
   "id": "af8d1617",
   "metadata": {},
   "outputs": [
    {
     "name": "stdout",
     "output_type": "stream",
     "text": [
      "아파트 전체 사용량 : 44434kwh, 6439540원\n",
      "세대부 사용량 : 31104kwh, 3798980원, 세대부 가구 수 : 108가구\n",
      "공용부 사용량 : 13330kwh, 2640560원, 공용부 PERCENTAGE : 30%\n"
     ]
    }
   ],
   "source": [
    "# 사용량 파싱\n",
    "percentage = 30\n",
    "\n",
    "households_cnt = len(m.iloc[0][1:])\n",
    "households_kwh = m.iloc[0][1:].sum()\n",
    "\n",
    "APT = round((households_kwh * 100) / (100 - percentage))\n",
    "public_kwh = APT - households_kwh\n",
    "\n",
    "APT_bill = bc_result['bill']['single'][\"30\"][1]\n",
    "public_bill = bc_result['public_bill']['single'][\"30\"][1]\n",
    "households_bill = APT_bill - public_bill\n",
    "\n",
    "print(\"아파트 전체 사용량 : {}kwh, {}원\"\\\n",
    "      .format(APT, int(APT_bill)))\n",
    "print(\"세대부 사용량 : {}kwh, {}원, 세대부 가구 수 : {}가구\"\\\n",
    "      .format(households_kwh, int(households_bill),households_cnt))\n",
    "print(\"공용부 사용량 : {}kwh, {}원, 공용부 PERCENTAGE : {}%\"\\\n",
    "      .format(public_kwh, int(public_bill),round(public_kwh / APT * 100)))"
   ]
  },
  {
   "cell_type": "code",
   "execution_count": 88,
   "id": "393600bf",
   "metadata": {},
   "outputs": [
    {
     "name": "stdout",
     "output_type": "stream",
     "text": [
      "요금 산정 사용량 : 411kwh\n"
     ]
    }
   ],
   "source": [
    "bill_rate = round(APT / households_cnt)\n",
    "print(\"요금 산정 사용량 : {}kwh\".format(int(bill_rate)))"
   ]
  },
  {
   "cell_type": "code",
   "execution_count": null,
   "id": "4c531ac8",
   "metadata": {},
   "outputs": [],
   "source": []
  }
 ],
 "metadata": {
  "kernelspec": {
   "display_name": "Python 3 (ipykernel)",
   "language": "python",
   "name": "python3"
  },
  "language_info": {
   "codemirror_mode": {
    "name": "ipython",
    "version": 3
   },
   "file_extension": ".py",
   "mimetype": "text/x-python",
   "name": "python",
   "nbconvert_exporter": "python",
   "pygments_lexer": "ipython3",
   "version": "3.8.12"
  }
 },
 "nbformat": 4,
 "nbformat_minor": 5
}
