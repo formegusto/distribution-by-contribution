{
 "cells": [
  {
   "cell_type": "code",
   "execution_count": 1,
   "id": "c94feb94",
   "metadata": {},
   "outputs": [],
   "source": [
    "%load_ext autoreload\n",
    "%autoreload 2\n",
    "%reload_ext autoreload"
   ]
  },
  {
   "cell_type": "code",
   "execution_count": 2,
   "id": "a071ceac",
   "metadata": {},
   "outputs": [],
   "source": [
    "import pandas as pd\n",
    "import numpy as np\n",
    "%matplotlib inline\n",
    "import matplotlib\n",
    "import matplotlib.pyplot as plt\n",
    "import math as mt\n",
    "import datetime as dt\n",
    "import random as ran\n",
    "from sklearn.metrics.pairwise import euclidean_distances as euc\n",
    "\n",
    "# 한글출력\n",
    "matplotlib.rc('font', family='AppleGothic')\n",
    "plt.rcParams['axes.unicode_minus'] = False\n",
    "\n",
    "from src.dbc import TimeDivisionKMeans\n",
    "from src.dbc.utils import data_preprocessing, dimension_reduction, calc_contribution"
   ]
  },
  {
   "cell_type": "code",
   "execution_count": 4,
   "id": "d07c553b",
   "metadata": {},
   "outputs": [],
   "source": [
    "# 1. load_excel\n",
    "data_path = \"data/apt_1.xlsx\"\n",
    "xlsx = pd.read_excel(data_path, header=None,\n",
    "                     skiprows=2, engine=\"openpyxl\")\n",
    "\n",
    "# 2. data preprocessing\n",
    "df = data_preprocessing(xlsx)\n",
    "\n",
    "# 3. dimension_reduction\n",
    "df = dimension_reduction(df)\n",
    "\n",
    "# 4. day clustering\n",
    "df = df[:24]"
   ]
  },
  {
   "cell_type": "code",
   "execution_count": 8,
   "id": "6a1d8411",
   "metadata": {},
   "outputs": [
    {
     "name": "stdout",
     "output_type": "stream",
     "text": [
      "실제 (합산치 상에서의) 최소, 최대 사용량 가구\n",
      "- 최소: 아파트1-104-1208 (0.219kwh) / 최대: 아파트1-103-703 (15.63kwh)\n",
      "\n",
      "기여도 최소, 최대 사용량 가구\n",
      "- 최소: 아파트1-104-1208 (0.219kwh) (기여도: 0.0002511692559655565%) / 최대: 아파트1-103-703 (15.63kwh) (기여도: 0.017925915391514377%)\n",
      "\n",
      "- 최소사용량 가구 기여도 , 최대사용량 가구 기여도 비교 71배\n"
     ]
    }
   ],
   "source": [
    "# 개별 기여도 확인\n",
    "# 해당 프로젝트의 목표 중, 단일계약 상에서 최대 사용량 가구의 전기를 아끼게 만들어 단일계약상에서의 공동설비사용요금을 줄이고,\n",
    "# 이를 통해 형평성 있는 가격분배가 이루어지도록 하는 목적이 있다지만,\n",
    "# 최대 사용량 가구의 가격 부담율이 매우 증가할 수 있다. -> 집단화를 통해 부담율의 오차를 줄여본다.\n",
    "cols = df.columns\n",
    "total_kwh = df.values.sum()\n",
    "\n",
    "sum_df = (df.sum() * 1000).round() / 1000\n",
    "cont_df = df.sum() / total_kwh\n",
    "\n",
    "min_h = cols[sum_df.argmin()]\n",
    "max_h = cols[sum_df.argmax()]\n",
    "print(\"실제 (합산치 상에서의) 최소, 최대 사용량 가구\")\n",
    "print(\"- 최소: {} ({}kwh) / 최대: {} ({}kwh)\\n\".format(\n",
    "    min_h,\n",
    "    sum_df[min_h],\n",
    "    max_h,\n",
    "    sum_df[max_h]\n",
    "))\n",
    "\n",
    "_min_h = cols[cont_df.argmin()]\n",
    "_max_h = cols[cont_df.argmax()]\n",
    "print(\"기여도 최소, 최대 사용량 가구\")\n",
    "print(\"- 최소: {} ({}kwh) (기여도: {}%) / 최대: {} ({}kwh) (기여도: {}%)\\n\".format(\n",
    "    _min_h,\n",
    "    sum_df[min_h],\n",
    "    cont_df[_min_h],\n",
    "    _max_h,\n",
    "    sum_df[max_h],\n",
    "    cont_df[_max_h]\n",
    "))\n",
    "print(\"- 최소사용량 가구 기여도 , 최대사용량 가구 기여도 비교 {}배\".format(round(cont_df[_max_h] / cont_df[_min_h])))"
   ]
  },
  {
   "cell_type": "code",
   "execution_count": 9,
   "id": "470149d8",
   "metadata": {},
   "outputs": [
    {
     "name": "stdout",
     "output_type": "stream",
     "text": [
      "문제 #1. 여전히 최소사용량 가구 집단과 최대사용량 가구 집단간의 기여도 차이가 많이 발생한다.\n",
      "- 최소사용량 집단 기여도 , 최대사용량 집단 기여도 비교 71배\n",
      "\n",
      "문제 #2. 단 1kWh의 차이로 다른 집단에 들어가게 됐을 때의 가격 증가폭이 커질 수 있다.\n",
      "- 최소사용량 집단 기여도 , 최소사용량 + 1 집단 기여도 비교 11배\n",
      "\n",
      "문제 #3. 히스토그램은 범위에 해당하는 x와 y가 있는 표현 방식이다.\n",
      "해당 방식으로 진행해서 가격 분배를 하게 될 경우, 기여도가 많이 분배되어 있는 집단에 속한 가구(y)가 얼마 없다면\n",
      "적은 가구들이 해당 기여도에 따른 공동설비사용요금을 지불하게 될 것 이다.\n"
     ]
    },
    {
     "data": {
      "text/plain": [
       "<AxesSubplot:>"
      ]
     },
     "execution_count": 9,
     "metadata": {},
     "output_type": "execute_result"
    },
    {
     "data": {
      "image/png": "[encoded data removed]",
      "text/plain": [
       "<Figure size 432x288 with 1 Axes>"
      ]
     },
     "metadata": {
      "needs_background": "light"
     },
     "output_type": "display_data"
    }
   ],
   "source": [
    "# 히스토그램 기여도 확인 (집단화 방식 #1)\n",
    "K = round(mt.sqrt(len(df.columns) / 2))\n",
    "\n",
    "sum_df = df.sum()\n",
    "hist_y,hist_x = np.histogram(sum_df, bins=K)\n",
    "cont_hist = hist_x / hist_x.sum()\n",
    "\n",
    "_min_h = cont_hist.argmin()\n",
    "_max_h = cont_hist.argmax()\n",
    "print(\"문제 #1. 여전히 최소사용량 가구 집단과 최대사용량 가구 집단간의 기여도 차이가 많이 발생한다.\")\n",
    "print(\"- 최소사용량 집단 기여도 , 최대사용량 집단 기여도 비교 {}배\\n\".format(round(cont_hist[_max_h] / cont_hist[_min_h])))\n",
    "print(\"문제 #2. 단 1kWh의 차이로 다른 집단에 들어가게 됐을 때의 가격 증가폭이 커질 수 있다.\")\n",
    "print(\"- 최소사용량 집단 기여도 , 최소사용량 + 1 집단 기여도 비교 {}배\\n\".format(round(cont_hist[1] / cont_hist[0])))\n",
    "print(\"문제 #3. 히스토그램은 범위에 해당하는 x와 y가 있는 표현 방식이다.\")\n",
    "print(\"해당 방식으로 진행해서 가격 분배를 하게 될 경우, 기여도가 많이 분배되어 있는 집단에 속한 가구(y)가 얼마 없다면\")\n",
    "print(\"적은 가구들이 해당 기여도에 따른 공동설비사용요금을 지불하게 될 것 이다.\")\n",
    "sum_df.hist(bins=K)"
   ]
  },
  {
   "cell_type": "code",
   "execution_count": 21,
   "id": "15f12c59",
   "metadata": {},
   "outputs": [
    {
     "name": "stdout",
     "output_type": "stream",
     "text": [
      "실제 (합산치 상에서의) 최소, 최대 사용량 가구\n",
      "- 최소: 아파트1-104-1208 (0.219kwh) / 최대: 아파트1-103-703 (15.63kwh)\n",
      "\n",
      "기여도 최소, 최대 사용량 가구\n",
      "- 최소: 아파트1-104-1206 (0.219kwh) (기여도: 6%) / 최대: 아파트1-101-402 (15.63kwh) (기여도: 22%)\n",
      "\n",
      "발견 #1. 클러스터링 방식의 기여도 분배는 다른 분배 방식들과 다르게 최대사용량 가구의 부담을 덜어줄 수 있었다.\n",
      "- 최소사용량 가구 기여도 , 최대사용량 가구 기여도 비교 4배\n"
     ]
    }
   ],
   "source": [
    "# 일반 euclidean distance KMeans 방식\n",
    "tdKMeans_24 = TimeDivisionKMeans(df, size=24)\n",
    "hc_24, ci_24 = tdKMeans_24.run()\n",
    "\n",
    "_hc = hc_24.copy()\n",
    "_test = list()\n",
    "\n",
    "for col in _hc:\n",
    "    _hc_info = _hc[col].copy()\n",
    "    contributions = [ci_24[division_round][1][int(_)] for division_round,_ in enumerate(_hc_info)]\n",
    "    _test.append(contributions.copy())\n",
    "\n",
    "contribution_df = pd.DataFrame(_test).T\n",
    "contribution_df.columns = df.columns\n",
    "\n",
    "contribution_df\n",
    "\n",
    "# 실제(합산치 상에서의) 최소, 최대 사용량 가구\n",
    "cols = df.columns\n",
    "\n",
    "sum_df = (df.sum() * 1000).round() / 1000\n",
    "min_h = cols[sum_df.argmin()]\n",
    "max_h = cols[sum_df.argmax()]\n",
    "print(\"실제 (합산치 상에서의) 최소, 최대 사용량 가구\")\n",
    "print(\"- 최소: {} ({}kwh) / 최대: {} ({}kwh)\\n\".format(\n",
    "    min_h,\n",
    "    sum_df[min_h],\n",
    "    max_h,\n",
    "    sum_df[max_h]\n",
    "))\n",
    "\n",
    "mean_cont_df = contribution_df.mean().round().astype(\"int\")\n",
    "_min_h = cols[mean_cont_df.argmin()]\n",
    "_max_h = cols[mean_cont_df.argmax()]\n",
    "print(\"기여도 최소, 최대 사용량 가구\")\n",
    "print(\"- 최소: {} ({}kwh) (기여도: {}%) / 최대: {} ({}kwh) (기여도: {}%)\\n\".format(\n",
    "    _min_h,\n",
    "    sum_df[min_h],\n",
    "    mean_cont_df[_min_h],\n",
    "    _max_h,\n",
    "    sum_df[max_h],\n",
    "    mean_cont_df[_max_h]\n",
    "))\n",
    "print(\"발견 #1. 클러스터링 방식의 기여도 분배는 다른 분배 방식들과 다르게 최대사용량 가구의 부담을 덜어줄 수 있었다.\")\n",
    "print(\"- 최소사용량 가구 기여도 , 최대사용량 가구 기여도 비교 {}배\".format(round(mean_cont_df[_max_h] / mean_cont_df[_min_h])))"
   ]
  },
  {
   "cell_type": "code",
   "execution_count": 22,
   "id": "4a94f501",
   "metadata": {},
   "outputs": [
    {
     "name": "stdout",
     "output_type": "stream",
     "text": [
      "문제 #1. KMeans Clustering은 아웃라이어에 민감한 알고리즘이다. 이는 군집의 멤버가 하나 밖에 없는 경우를 이야기하며,\n",
      "히스토그램 문제에서도 이야기 했던, 해당 아웃라이어 군집의 기여도가 높다면, 적은 가구 혹은 하나의 가구가 해당 기여도에 따른 가격을 지불해야 한다.\n",
      "\n",
      "- 추가 #. 최종적으로 산정되는 요금은 모든 가구의 총 사용량에 따라 달라짐으로, 아웃라이어를 제거해도 안된다.\n",
      "아웃라이어 발생 클러스터 : 3\n",
      "아웃라이어 클러스터 기여도 : 22.0%\n"
     ]
    }
   ],
   "source": [
    "print(\"문제 #1. KMeans Clustering은 아웃라이어에 민감한 알고리즘이다. 이는 군집의 멤버가 하나 밖에 없는 경우를 이야기하며,\")\n",
    "print(\"히스토그램 문제에서도 이야기 했던, 해당 아웃라이어 군집의 기여도가 높다면, 적은 가구 혹은 하나의 가구가 해당 기여도에 따른 가격을 지불해야 한다.\\n\")\n",
    "print(\"- 추가 #. 최종적으로 산정되는 요금은 모든 가구의 총 사용량에 따라 달라짐으로, 아웃라이어를 제거해도 안된다.\")\n",
    "cnt_hc_24 = hc_24.T.groupby(hc_24.T[0]).count()\n",
    "\n",
    "print(\"아웃라이어 발생 클러스터 : {}\".format(int(cnt_hc_24[cnt_hc_24[0] <= 3].index[0])))\n",
    "print(\"아웃라이어 클러스터 기여도 : {}%\".format(ci_24[0][1][int(cnt_hc_24[cnt_hc_24[0] <= 3].index[0])]))"
   ]
  },
  {
   "cell_type": "markdown",
   "id": "e94594c3",
   "metadata": {},
   "source": [
    "#### 히스토그램과 일반적인 KMeans Clustering을 이용했을 때의 예시들은 기여도를 집단화해서 분배했을 때의 단점들을 보여준다.\n",
    "- 개별적으로 기여도를 산정하는 방법이 사실상은 최선의 공평함을 가지고 있다고 판단된다. (개별적으로 기여도를 분배)\n",
    "- 하지만 클러스터링을 통해서 최소 사용량 가구와 최대 사용량 가구의 기여도 차이를 낮추는 효과를 주었다. (집단화의 필요성)\n",
    "    - (기여도 차이를 일정 수준으로 낮추어야, 단일계약의 장점을 유지하면서 공동설비사용요금을 분배할 수 있다.)\n",
    "    \n",
    "###### 그래서 시간대별로 KMeans Clustering을 진행시키는 Time Division KMeans Clustering 기법을 떠올렸다.\n",
    "- 시간대별로 KMeans Clustering을 진행시키고, 해당 시간대에서의 기여도를 분배한다.\n",
    "    - 이렇게 만들어진 특정 가구의 시간대별 기여도를 평균 혹은 합산을 내면, 개별적인 기여도가 산출된다.\n",
    "    - 시간대의 크기가 작을 수록, 정밀하게 기여도가 산출되며, 특정 가구가 특정 시간대에 아웃라이어가 되어도, \n",
    "        나머지 시간대가 이를 커버해주면서 해당 가구의 부담율은 감소할 것이며, 집단화의 장점이었던 최소 사용량 가구와 최대 사용량 가구간의 기여도 차이를 낮추는 효과를 줄 것이다.\n",
    "- 시간대별로 군집화를 실시한 클러스터링 정보는 후에 사용자에게 **절약 가이드 피드백 자료로 이용될 수 있다.**"
   ]
  }
 ],
 "metadata": {
  "kernelspec": {
   "display_name": "Python 3 (ipykernel)",
   "language": "python",
   "name": "python3"
  },
  "language_info": {
   "codemirror_mode": {
    "name": "ipython",
    "version": 3
   },
   "file_extension": ".py",
   "mimetype": "text/x-python",
   "name": "python",
   "nbconvert_exporter": "python",
   "pygments_lexer": "ipython3",
   "version": "3.8.12"
  }
 },
 "nbformat": 4,
 "nbformat_minor": 5
}
